{
 "cells": [
  {
   "cell_type": "code",
   "execution_count": 18,
   "id": "95d9725b",
   "metadata": {},
   "outputs": [],
   "source": [
    "#Load packages\n",
    "import pandas as pd\n",
    "import numpy as np\n",
    "import scipy.io as sio\n",
    "import random\n",
    "import scipy\n",
    "import matplotlib.pyplot as plt\n",
    "from collections import Counter\n",
    "from sklearn.manifold import TSNE\n",
    "from sklearn.svm import SVC\n",
    "from sklearn.pipeline import make_pipeline\n",
    "from sklearn.preprocessing import StandardScaler, MinMaxScaler, LabelEncoder\n",
    "from sklearn.utils.class_weight import compute_class_weight\n",
    "from sklearn.decomposition import PCA\n",
    "from sklearn.linear_model import LogisticRegression, RidgeClassifier, SGDClassifier"
   ]
  },
  {
   "cell_type": "code",
   "execution_count": 4,
   "id": "cab18f00",
   "metadata": {},
   "outputs": [
    {
     "name": "stdout",
     "output_type": "stream",
     "text": [
      "(7849, 2048)\n",
      "1013\n",
      "(1379, 2048)\n",
      "1013\n",
      "7849\n",
      "1379\n"
     ]
    }
   ],
   "source": [
    "#This function is used to encode labels since labels are categorical.\n",
    "def encode_labels(labels):\n",
    "    le = LabelEncoder()\n",
    "    le.fit(labels)\n",
    "    encoded_labels = le.transform(labels)\n",
    "    \n",
    "    return encoded_labels, le\n",
    "\n",
    "def decode_labels(encoded_predict_labels, le):\n",
    "    test_predictions = le.inverse_transform(encoded_predict_labels)\n",
    "    \n",
    "    return test_predictions\n",
    "\n",
    "#Load data\n",
    "train = sio.loadmat('train.mat')\n",
    "validation = sio.loadmat('validation.mat')\n",
    "test = sio.loadmat('test_wolabels.mat')\n",
    "\n",
    "train_classid = np.squeeze(train['classid'])\n",
    "train_class_labels = []\n",
    "for item in train_classid:\n",
    "    train_class_labels.append(item[0])\n",
    "train_features = train['features']\n",
    "train_imid = train['imid']\n",
    "train_sampleid = train['sampleid']\n",
    "print(train_features.shape)\n",
    "train_unique_labels = sorted(np.unique(train_class_labels))\n",
    "train_unique_labels_count = len(train_unique_labels)\n",
    "print(train_unique_labels_count)\n",
    "\n",
    "validation_classid = np.squeeze(validation['classid'])\n",
    "validation_class_labels = []\n",
    "for item in validation_classid:\n",
    "    validation_class_labels.append(item[0])\n",
    "validation_features = validation['features']\n",
    "validation_imid = validation['imid']\n",
    "validation_sampleid = validation['sampleid']\n",
    "print(validation_features.shape)\n",
    "validation_unique_labels = sorted(np.unique(validation_class_labels))\n",
    "validation_unique_labels_count = len(validation_unique_labels)\n",
    "print(validation_unique_labels_count)\n",
    "\n",
    "#encoded train labels\n",
    "train_labels, le = encode_labels(train_class_labels)\n",
    "print(len(train_labels))\n",
    "\n",
    "#encoded validation labels\n",
    "validation_labels = le.transform(validation_class_labels)\n",
    "print(len(validation_labels))"
   ]
  },
  {
   "cell_type": "code",
   "execution_count": 5,
   "id": "4ed4fe59",
   "metadata": {},
   "outputs": [],
   "source": [
    "#0-1 normalization\n",
    "scalar = MinMaxScaler()\n",
    "train_features_norm = scalar.fit_transform(train_features)\n",
    "validation_features_norm = scalar.transform(validation_features)"
   ]
  },
  {
   "cell_type": "markdown",
   "id": "1a45d45a",
   "metadata": {},
   "source": [
    "Logistic Regression with Cross-validation Design of Experiment"
   ]
  },
  {
   "cell_type": "code",
   "execution_count": 6,
   "id": "1f9c8d84",
   "metadata": {
    "scrolled": true
   },
   "outputs": [
    {
     "name": "stdout",
     "output_type": "stream",
     "text": [
      "Cost parameter:  1\n",
      "Mean class accuracy scores: 0.78535170413343\n",
      "Cost parameter:  10\n",
      "Mean class accuracy scores: 0.7882523567802756\n"
     ]
    }
   ],
   "source": [
    "cost_param = [1, 10]\n",
    "for c in cost_param:\n",
    "    clf = LogisticRegression(C = c, solver = 'liblinear', class_weight = 'balanced', random_state=0)\n",
    "    clf.fit(train_features, train_labels)\n",
    "    score = clf.score(validation_features, validation_labels)\n",
    "    print(\"Cost parameter: \", c)\n",
    "    print(\"Mean class accuracy scores:\", score)"
   ]
  },
  {
   "cell_type": "markdown",
   "id": "90b22f92",
   "metadata": {},
   "source": [
    "Logistic Regression\n",
    "\n",
    "PCA dim 1000\n",
    "\n",
    "Cost parameter 100\n",
    "\n",
    "solver-Liblinear"
   ]
  },
  {
   "cell_type": "code",
   "execution_count": 6,
   "id": "cec1b97c",
   "metadata": {},
   "outputs": [
    {
     "name": "stdout",
     "output_type": "stream",
     "text": [
      "No. of principal components = 1000\n",
      "Mean class accuracy score: 0.794778825235678\n"
     ]
    }
   ],
   "source": [
    "n_components = 1000\n",
    "pca = PCA(n_components=n_components)\n",
    "train_features_red = pca.fit_transform(train_features_norm)\n",
    "validation_features_red = pca.transform(validation_features_norm)\n",
    "print(\"No. of principal components =\", n_components)\n",
    "clf = LogisticRegression(C = 100, solver = 'liblinear', class_weight = 'balanced', random_state=0)\n",
    "clf.fit(train_features_red, train_labels)\n",
    "logistic_Regression_predictions = clf.predict(validation_features_red)\n",
    "score = clf.score(validation_features_red, validation_labels)\n",
    "print(\"accuracy score:\", score)"
   ]
  },
  {
   "cell_type": "code",
   "execution_count": 16,
   "id": "e9e3e5f4",
   "metadata": {},
   "outputs": [
    {
     "name": "stdout",
     "output_type": "stream",
     "text": [
      "0.7549405349504067\n"
     ]
    }
   ],
   "source": [
    "from sklearn.metrics import confusion_matrix\n",
    "logistic_Regression_predictions = clf.predict(validation_features_red)\n",
    "matrix = confusion_matrix(validation_labels, logistic_Regression_predictions)\n",
    "acc = matrix.diagonal()/matrix.sum(axis=1)\n",
    "print(sum(acc)/len(acc))"
   ]
  },
  {
   "cell_type": "code",
   "execution_count": 13,
   "id": "5ae68544",
   "metadata": {},
   "outputs": [
    {
     "name": "stdout",
     "output_type": "stream",
     "text": [
      "Mean class accuracy score: 0.7846265409717187\n"
     ]
    }
   ],
   "source": [
    "clf_LR2 = LogisticRegression(C = 100, solver = 'liblinear', class_weight = 'balanced', random_state=0)\n",
    "clf_LR2.fit(train_features, train_labels)\n",
    "logistic_Regression_predictions = clf_LR2.predict(validation_features)\n",
    "score = clf_LR2.score(validation_features, validation_labels)\n",
    "print(\"Mean class accuracy score:\", score)"
   ]
  },
  {
   "cell_type": "markdown",
   "id": "8a24ae94",
   "metadata": {},
   "source": [
    "Ridge Classifier"
   ]
  },
  {
   "cell_type": "code",
   "execution_count": 7,
   "id": "b8b4f61e",
   "metadata": {},
   "outputs": [
    {
     "name": "stdout",
     "output_type": "stream",
     "text": [
      "Mean class accuracy score: 0.8042059463379261\n"
     ]
    }
   ],
   "source": [
    "clf_ridge = RidgeClassifier(class_weight = 'balanced', random_state=0)\n",
    "clf_ridge.fit(train_features_norm, train_labels)\n",
    "RidgeClassifier_predictions = clf_ridge.predict(validation_features_norm)\n",
    "score = clf_ridge.score(validation_features_norm, validation_labels)\n",
    "print(\"Mean class accuracy score:\", score)"
   ]
  },
  {
   "cell_type": "markdown",
   "id": "a619487a",
   "metadata": {},
   "source": [
    "SGDClassifier-SVM\n",
    "\n",
    "PCA dim 1000\n",
    "\n",
    "Alpha parameter 0.0001"
   ]
  },
  {
   "cell_type": "code",
   "execution_count": 8,
   "id": "1ef83b27",
   "metadata": {},
   "outputs": [
    {
     "name": "stdout",
     "output_type": "stream",
     "text": [
      "No. of principal components = 1000\n",
      "Mean class accuracy scores: 0.7918781725888325\n"
     ]
    }
   ],
   "source": [
    "n_components = 1000\n",
    "pca = PCA(n_components=n_components)\n",
    "train_features_red_sgd = pca.fit_transform(train_features)\n",
    "validation_features_red_sgd = pca.transform(validation_features)\n",
    "print(\"No. of principal components =\", n_components)\n",
    "clf_sgd = make_pipeline(StandardScaler(), SGDClassifier(max_iter=10000, tol=1e-4, class_weight='balanced', random_state=0))\n",
    "clf_sgd.fit(train_features_red_sgd, train_labels)\n",
    "SGDClassifier_predictions = clf_sgd.predict(validation_features_red_sgd)\n",
    "score = clf_sgd.score(validation_features_red_sgd, validation_labels)\n",
    "print(\"Mean class accuracy scores:\", score)"
   ]
  },
  {
   "cell_type": "markdown",
   "id": "942f12b0",
   "metadata": {},
   "source": [
    "Ensemble method-VotingClassifier"
   ]
  },
  {
   "cell_type": "code",
   "execution_count": 11,
   "id": "c8974329",
   "metadata": {},
   "outputs": [
    {
     "data": {
      "text/plain": [
       "0.7897026831036983"
      ]
     },
     "execution_count": 11,
     "metadata": {},
     "output_type": "execute_result"
    }
   ],
   "source": [
    "from sklearn.ensemble import VotingClassifier #create a dictionary of our models\n",
    "\n",
    "estimators=[('log_reg', clf), ('ridge', clf_ridge), ('sgd_svm', clf_sgd)] #create our voting classifier, inputting our models\n",
    "\n",
    "ensemble = VotingClassifier(estimators, voting='hard')\n",
    "\n",
    "#fit model to training data\n",
    "ensemble.fit(train_features_red, train_labels) #test our model on the test data\n",
    "ensemble.score(validation_features_red, validation_labels)"
   ]
  },
  {
   "cell_type": "code",
   "execution_count": 12,
   "id": "feca7edf",
   "metadata": {},
   "outputs": [
    {
     "data": {
      "text/plain": [
       "0.78535170413343"
      ]
     },
     "execution_count": 12,
     "metadata": {},
     "output_type": "execute_result"
    }
   ],
   "source": [
    "estimators2=[('log_reg', clf), ('ridge', clf_ridge)] #create our voting classifier, inputting our models\n",
    "\n",
    "ensemble2 = VotingClassifier(estimators2, voting='hard')\n",
    "\n",
    "#fit model to training data\n",
    "ensemble2.fit(train_features_red, train_labels) #test our model on the test data\n",
    "ensemble2.score(validation_features_red, validation_labels)"
   ]
  },
  {
   "cell_type": "code",
   "execution_count": 17,
   "id": "c5aad320",
   "metadata": {},
   "outputs": [
    {
     "name": "stdout",
     "output_type": "stream",
     "text": [
      "0.7618789075353735\n"
     ]
    }
   ],
   "source": [
    "ensemble_predict = ensemble.predict(validation_features_red)\n",
    "\n",
    "matrix = confusion_matrix(validation_labels, ensemble_predict)\n",
    "acc = matrix.diagonal()/matrix.sum(axis=1)\n",
    "print(sum(acc)/len(acc))"
   ]
  },
  {
   "cell_type": "code",
   "execution_count": 25,
   "id": "6ff06157",
   "metadata": {
    "scrolled": true
   },
   "outputs": [
    {
     "name": "stdout",
     "output_type": "stream",
     "text": [
      "[815, 1, 2, 3, 4, 5, 392, 26, 8, 14, 799, 11, 622, 13, 13, 33, 15, 16, 14, 27, 21, 19, 20, 291, 22, 23, 24, 24, 723, 25, 25, 26, 29, 20, 20, 30, 31, 32, 344, 35, 34, 72, 23, 37, 38, 39, 39, 40, 41, 41, 41, 42, 43, 44, 45, 46, 47, 48, 48, 48, 49, 49, 50, 51, 51, 701, 53, 54, 55, 589, 57, 58, 59, 60, 60, 61, 61, 62, 64, 64, 65, 66, 67, 68, 69, 71, 70, 72, 73, 74, 75, 76, 77, 78, 78, 79, 80, 80, 80, 80, 81, 82, 794, 84, 84, 85, 85, 85, 86, 86, 87, 88, 88, 87, 89, 90, 102, 91, 91, 92, 92, 92, 92, 652, 773, 93, 93, 103, 95, 95, 95, 95, 96, 96, 96, 97, 98, 444, 99, 99, 452, 100, 100, 653, 102, 102, 102, 103, 103, 104, 104, 104, 105, 113, 106, 107, 107, 493, 109, 110, 110, 111, 111, 114, 106, 106, 114, 115, 116, 498, 745, 968, 769, 120, 120, 120, 121, 120, 122, 123, 5, 125, 126, 127, 128, 129, 130, 131, 132, 132, 133, 134, 134, 135, 1006, 137, 137, 137, 138, 137, 140, 141, 142, 143, 144, 145, 145, 146, 146, 147, 148, 148, 682, 150, 151, 152, 152, 153, 154, 154, 155, 687, 157, 157, 157, 158, 1002, 159, 160, 162, 162, 163, 164, 165, 167, 167, 168, 168, 588, 170, 171, 172, 173, 174, 175, 175, 176, 177, 177, 178, 179, 198, 180, 182, 183, 190, 183, 198, 184, 185, 186, 187, 188, 189, 190, 190, 190, 191, 192, 193, 194, 195, 196, 200, 198, 198, 198, 199, 199, 200, 201, 197, 204, 204, 205, 205, 206, 207, 207, 208, 209, 209, 210, 195, 212, 212, 213, 214, 215, 215, 190, 207, 174, 218, 219, 220, 221, 221, 222, 222, 223, 224, 225, 225, 227, 227, 227, 228, 229, 230, 231, 232, 232, 233, 234, 139, 236, 236, 237, 238, 239, 240, 546, 241, 242, 245, 314, 245, 246, 246, 248, 249, 249, 256, 251, 251, 249, 253, 254, 255, 255, 256, 256, 257, 258, 258, 258, 258, 252, 260, 262, 261, 264, 264, 265, 265, 265, 266, 267, 268, 269, 270, 271, 272, 272, 273, 273, 274, 275, 275, 276, 277, 278, 279, 280, 281, 281, 282, 286, 283, 283, 283, 283, 284, 284, 285, 294, 283, 283, 288, 288, 288, 289, 290, 291, 291, 284, 293, 294, 287, 296, 296, 300, 298, 299, 299, 297, 301, 302, 303, 304, 276, 305, 306, 309, 308, 309, 310, 311, 312, 313, 314, 315, 316, 320, 318, 319, 319, 320, 701, 322, 323, 324, 325, 326, 329, 329, 327, 324, 326, 328, 329, 326, 330, 331, 331, 331, 332, 332, 333, 334, 335, 336, 336, 337, 338, 339, 339, 340, 340, 341, 342, 343, 343, 343, 350, 344, 344, 344, 344, 679, 344, 344, 345, 129, 346, 346, 347, 347, 348, 348, 348, 348, 349, 349, 350, 343, 351, 351, 351, 352, 801, 353, 354, 353, 355, 356, 358, 358, 359, 360, 361, 362, 363, 364, 365, 366, 367, 368, 368, 607, 370, 371, 371, 372, 372, 373, 374, 374, 372, 371, 376, 373, 378, 378, 378, 378, 380, 381, 382, 383, 385, 369, 386, 387, 388, 388, 389, 389, 389, 389, 390, 2, 392, 393, 394, 757, 396, 397, 397, 398, 209, 400, 401, 402, 755, 404, 404, 700, 815, 407, 815, 409, 409, 409, 410, 410, 411, 412, 413, 571, 415, 415, 416, 417, 418, 419, 420, 420, 420, 421, 421, 421, 422, 423, 423, 424, 425, 426, 428, 427, 442, 431, 430, 430, 430, 431, 432, 433, 434, 435, 435, 436, 437, 438, 438, 420, 440, 440, 441, 441, 441, 455, 442, 442, 443, 444, 445, 446, 446, 447, 452, 449, 449, 450, 451, 452, 453, 454, 455, 454, 456, 457, 457, 458, 426, 460, 460, 461, 461, 462, 465, 464, 465, 466, 467, 467, 468, 468, 469, 470, 470, 470, 470, 472, 473, 474, 475, 477, 477, 477, 478, 478, 479, 480, 481, 482, 483, 483, 608, 485, 486, 489, 488, 489, 489, 489, 490, 491, 492, 493, 493, 494, 495, 496, 497, 498, 116, 499, 500, 502, 502, 503, 504, 505, 505, 1012, 844, 508, 510, 510, 511, 511, 511, 512, 512, 513, 514, 515, 519, 517, 517, 517, 816, 517, 518, 519, 519, 520, 521, 521, 522, 522, 522, 523, 524, 525, 529, 526, 536, 528, 526, 906, 779, 780, 527, 528, 528, 531, 525, 529, 779, 530, 531, 531, 530, 532, 532, 532, 527, 534, 778, 525, 535, 535, 535, 535, 536, 537, 537, 538, 538, 539, 540, 541, 541, 544, 543, 543, 545, 547, 547, 548, 549, 550, 550, 551, 552, 553, 554, 555, 556, 556, 556, 556, 556, 558, 559, 559, 559, 560, 561, 562, 563, 564, 565, 565, 566, 997, 567, 568, 904, 570, 571, 572, 573, 574, 574, 575, 576, 577, 577, 578, 579, 580, 581, 582, 582, 583, 584, 584, 584, 584, 585, 586, 581, 588, 132, 590, 592, 592, 596, 594, 595, 596, 597, 598, 599, 599, 600, 601, 599, 577, 603, 604, 605, 606, 606, 604, 606, 607, 608, 609, 610, 611, 862, 613, 614, 615, 615, 616, 617, 617, 618, 619, 620, 621, 622, 623, 624, 628, 626, 626, 627, 628, 629, 630, 631, 632, 632, 633, 634, 634, 634, 634, 268, 636, 637, 640, 638, 639, 639, 639, 640, 641, 642, 643, 644, 645, 645, 170, 647, 648, 11, 651, 687, 97, 653, 654, 655, 642, 657, 658, 659, 660, 661, 662, 662, 663, 664, 664, 664, 665, 666, 667, 667, 766, 669, 669, 670, 589, 672, 673, 674, 674, 675, 676, 677, 677, 677, 677, 677, 678, 678, 679, 680, 679, 682, 682, 683, 684, 684, 684, 685, 686, 686, 687, 623, 689, 691, 691, 691, 692, 692, 692, 705, 698, 700, 696, 697, 698, 702, 695, 701, 705, 698, 693, 694, 700, 707, 707, 708, 709, 710, 711, 712, 712, 712, 712, 713, 714, 715, 715, 715, 715, 715, 716, 717, 718, 719, 720, 720, 720, 721, 722, 723, 724, 725, 726, 727, 727, 728, 729, 730, 730, 728, 733, 730, 731, 733, 734, 735, 735, 737, 737, 737, 738, 739, 740, 741, 742, 743, 745, 745, 745, 659, 747, 367, 749, 750, 750, 416, 752, 753, 753, 754, 5, 756, 757, 758, 759, 760, 760, 762, 762, 763, 764, 765, 766, 766, 767, 766, 769, 770, 771, 772, 867, 777, 777, 775, 669, 780, 776, 777, 777, 778, 779, 780, 550, 782, 783, 783, 783, 785, 786, 787, 787, 788, 789, 824, 790, 793, 792, 792, 793, 794, 795, 796, 797, 798, 799, 538, 801, 858, 53, 804, 804, 806, 806, 806, 807, 382, 809, 810, 811, 812, 896, 814, 815, 816, 817, 817, 818, 280, 820, 821, 821, 71, 824, 825, 826, 827, 827, 828, 828, 828, 317, 830, 831, 832, 833, 834, 835, 835, 835, 837, 838, 838, 839, 847, 859, 842, 843, 844, 845, 846, 841, 848, 848, 849, 850, 851, 855, 853, 854, 855, 856, 857, 858, 841, 860, 861, 862, 863, 863, 864, 865, 866, 867, 868, 868, 871, 871, 872, 873, 874, 874, 875, 875, 876, 876, 877, 878, 636, 880, 881, 881, 883, 883, 883, 884, 885, 885, 886, 887, 888, 888, 889, 890, 890, 890, 890, 890, 892, 892, 891, 893, 894, 895, 895, 868, 897, 898, 898, 898, 899, 899, 569, 905, 902, 902, 903, 904, 905, 906, 906, 907, 907, 907, 908, 909, 910, 910, 911, 912, 913, 917, 915, 916, 923, 929, 916, 920, 920, 921, 922, 923, 924, 924, 925, 926, 926, 926, 923, 928, 929, 932, 932, 931, 932, 933, 934, 935, 936, 938, 938, 939, 940, 629, 942, 943, 868, 945, 946, 947, 948, 949, 949, 950, 953, 952, 952, 953, 953, 1000, 955, 235, 956, 957, 958, 959, 960, 961, 961, 962, 963, 963, 965, 966, 966, 473, 969, 969, 970, 970, 971, 972, 973, 974, 974, 976, 977, 978, 979, 980, 981, 981, 982, 983, 984, 984, 984, 988, 985, 986, 987, 987, 988, 759, 989, 990, 991, 992, 992, 992, 998, 993, 1002, 995, 996, 996, 81, 996, 998, 999, 998, 994, 1002, 1003, 1004, 1005, 862, 1006, 974, 1009, 1009, 1010, 1011, 1012]\n"
     ]
    }
   ],
   "source": [
    "final_pred = []\n",
    "for i in range(1379):\n",
    "    temp_list = [RidgeClassifier_predictions[i], logistic_Regression_predictions[i], SGDClassifier_predictions[i]]\n",
    "    count_dict = Counter(temp_list)\n",
    "    key = max(count_dict, key=count_dict.get)\n",
    "    if count_dict[key] > 1:\n",
    "        final_pred.append(key)\n",
    "    else:\n",
    "        final_pred.append(RidgeClassifier_predictions[i])\n",
    "\n",
    "print(final_pred)"
   ]
  },
  {
   "cell_type": "code",
   "execution_count": 26,
   "id": "e77bd637",
   "metadata": {},
   "outputs": [
    {
     "name": "stdout",
     "output_type": "stream",
     "text": [
      "0.8085569253081943\n",
      "0.784757674046914\n"
     ]
    }
   ],
   "source": [
    "from sklearn.metrics import accuracy_score\n",
    "\n",
    "acc = accuracy_score(validation_labels, final_pred)\n",
    "print (acc)\n",
    "\n",
    "matrix = confusion_matrix(validation_labels, final_pred)\n",
    "acc2 = matrix.diagonal()/matrix.sum(axis=1)\n",
    "print(sum(acc2)/len(acc2))"
   ]
  },
  {
   "cell_type": "code",
   "execution_count": null,
   "id": "a5188a0d",
   "metadata": {},
   "outputs": [],
   "source": [
    "estimators3=[('log_reg', clf), ('ridge', clf_ridge), ('sgd_svm', clf_sgd)] #create our voting classifier, inputting our models\n",
    "\n",
    "ensemble3 = VotingClassifier(estimators3, voting='soft')\n",
    "\n",
    "#fit model to training data\n",
    "ensemble3.fit(train_features_red, train_labels) #test our model on the test data\n",
    "ensemble3.score(validation_features_red, validation_labels)"
   ]
  }
 ],
 "metadata": {
  "kernelspec": {
   "display_name": "Python 3 (ipykernel)",
   "language": "python",
   "name": "python3"
  },
  "language_info": {
   "codemirror_mode": {
    "name": "ipython",
    "version": 3
   },
   "file_extension": ".py",
   "mimetype": "text/x-python",
   "name": "python",
   "nbconvert_exporter": "python",
   "pygments_lexer": "ipython3",
   "version": "3.7.9"
  }
 },
 "nbformat": 4,
 "nbformat_minor": 5
}
