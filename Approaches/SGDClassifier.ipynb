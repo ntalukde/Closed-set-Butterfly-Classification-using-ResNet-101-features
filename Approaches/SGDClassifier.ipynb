{
 "cells": [
  {
   "cell_type": "code",
   "execution_count": 1,
   "id": "47c5b38c",
   "metadata": {},
   "outputs": [],
   "source": [
    "#Load packages\n",
    "import pandas as pd\n",
    "import numpy as np\n",
    "import scipy.io as sio\n",
    "import random\n",
    "import scipy\n",
    "import matplotlib.pyplot as plt\n",
    "from collections import Counter\n",
    "from sklearn.manifold import TSNE\n",
    "from sklearn.svm import SVC, LinearSVC\n",
    "from sklearn.pipeline import make_pipeline\n",
    "from sklearn.preprocessing import StandardScaler\n",
    "from sklearn.preprocessing import LabelEncoder\n",
    "from sklearn.decomposition import PCA\n",
    "from sklearn.linear_model import SGDClassifier"
   ]
  },
  {
   "cell_type": "code",
   "execution_count": 20,
   "id": "a357b35e",
   "metadata": {},
   "outputs": [],
   "source": [
    "def report_mean_class_acc(ytest, ypred, all_labels):\n",
    "    class_accuracies = []\n",
    "    for label in all_labels:\n",
    "        if(np.sum(ytest==label)>0):\n",
    "            acc = np.sum(np.logical_and(ytest == label,ypred == label))/np.sum(ytest==label)\n",
    "            class_accuracies.append(acc)\n",
    "    mean_acc = np.mean(class_accuracies)\n",
    "        \n",
    "    return mean_acc"
   ]
  },
  {
   "cell_type": "code",
   "execution_count": 2,
   "id": "73bec8a9",
   "metadata": {},
   "outputs": [
    {
     "name": "stdout",
     "output_type": "stream",
     "text": [
      "(7849, 2048)\n",
      "1013\n",
      "(1379, 2048)\n",
      "1013\n",
      "7849\n",
      "1379\n"
     ]
    }
   ],
   "source": [
    "#This function is used to encode labels since labels are categorical.\n",
    "def encode_labels(labels):\n",
    "    le = LabelEncoder()\n",
    "    le.fit(labels)\n",
    "    encoded_labels = le.transform(labels)\n",
    "    \n",
    "    return encoded_labels, le\n",
    "\n",
    "def decode_labels(encoded_predict_labels, le):\n",
    "    test_predictions = le.inverse_transform(encoded_predict_labels)\n",
    "    \n",
    "    return test_predictions\n",
    "\n",
    "#Load data\n",
    "train = sio.loadmat('train.mat')\n",
    "validation = sio.loadmat('validation.mat')\n",
    "test = sio.loadmat('test_wolabels.mat')\n",
    "\n",
    "train_classid = np.squeeze(train['classid'])\n",
    "train_class_labels = []\n",
    "for item in train_classid:\n",
    "    train_class_labels.append(item[0])\n",
    "train_features = train['features']\n",
    "train_imid = train['imid']\n",
    "train_sampleid = train['sampleid']\n",
    "print(train_features.shape)\n",
    "train_unique_labels = sorted(np.unique(train_class_labels))\n",
    "train_unique_labels_count = len(train_unique_labels)\n",
    "print(train_unique_labels_count)\n",
    "\n",
    "validation_classid = np.squeeze(validation['classid'])\n",
    "validation_class_labels = []\n",
    "for item in validation_classid:\n",
    "    validation_class_labels.append(item[0])\n",
    "validation_features = validation['features']\n",
    "validation_imid = validation['imid']\n",
    "validation_sampleid = validation['sampleid']\n",
    "print(validation_features.shape)\n",
    "validation_unique_labels = sorted(np.unique(validation_class_labels))\n",
    "validation_unique_labels_count = len(validation_unique_labels)\n",
    "print(validation_unique_labels_count)\n",
    "\n",
    "#encoded train labels\n",
    "train_labels, le = encode_labels(train_class_labels)\n",
    "print(len(train_labels))\n",
    "\n",
    "#encoded validation labels\n",
    "validation_labels = le.transform(validation_class_labels)\n",
    "print(len(validation_labels))"
   ]
  },
  {
   "cell_type": "markdown",
   "id": "a243267a",
   "metadata": {},
   "source": [
    "SGDClassifier with LinearSVM Design of Experiment"
   ]
  },
  {
   "cell_type": "code",
   "execution_count": 5,
   "id": "0be6d3c6",
   "metadata": {
    "scrolled": true
   },
   "outputs": [
    {
     "name": "stdout",
     "output_type": "stream",
     "text": [
      "No. of principal components = 500\n",
      "Alhpa parameter:  0.0001\n",
      "Mean class accuracy scores: 0.7751994198694706\n",
      "Alhpa parameter:  0.001\n",
      "Mean class accuracy scores: 0.5953589557650472\n",
      "Alhpa parameter:  0.01\n",
      "Mean class accuracy scores: 0.13850616388687453\n",
      "Alhpa parameter:  0.1\n",
      "Mean class accuracy scores: 0.05148658448150834\n",
      "No. of principal components = 550\n",
      "Alhpa parameter:  0.0001\n",
      "Mean class accuracy scores: 0.766497461928934\n",
      "Alhpa parameter:  0.001\n",
      "Mean class accuracy scores: 0.6171138506163887\n",
      "Alhpa parameter:  0.01\n",
      "Mean class accuracy scores: 0.29949238578680204\n",
      "Alhpa parameter:  0.1\n",
      "Mean class accuracy scores: 0.08556925308194344\n",
      "No. of principal components = 600\n",
      "Alhpa parameter:  0.0001\n",
      "Mean class accuracy scores: 0.7751994198694706\n",
      "Alhpa parameter:  0.001\n",
      "Mean class accuracy scores: 0.640319071791153\n",
      "Alhpa parameter:  0.01\n",
      "Mean class accuracy scores: 0.30384336475707036\n",
      "Alhpa parameter:  0.1\n",
      "Mean class accuracy scores: 0.09572153734590283\n",
      "No. of principal components = 650\n",
      "Alhpa parameter:  0.0001\n",
      "Mean class accuracy scores: 0.7759245830311821\n",
      "Alhpa parameter:  0.001\n",
      "Mean class accuracy scores: 0.6439448875997099\n",
      "Alhpa parameter:  0.01\n",
      "Mean class accuracy scores: 0.34662799129804206\n",
      "Alhpa parameter:  0.1\n",
      "Mean class accuracy scores: 0.09644670050761421\n",
      "No. of principal components = 700\n",
      "Alhpa parameter:  0.0001\n",
      "Mean class accuracy scores: 0.78535170413343\n",
      "Alhpa parameter:  0.001\n",
      "Mean class accuracy scores: 0.6635242929659173\n",
      "Alhpa parameter:  0.01\n",
      "Mean class accuracy scores: 0.36548223350253806\n",
      "Alhpa parameter:  0.1\n",
      "Mean class accuracy scores: 0.10297316896301668\n",
      "No. of principal components = 750\n",
      "Alhpa parameter:  0.0001\n",
      "Mean class accuracy scores: 0.7868020304568528\n",
      "Alhpa parameter:  0.001\n",
      "Mean class accuracy scores: 0.6816533720087019\n",
      "Alhpa parameter:  0.01\n",
      "Mean class accuracy scores: 0.36620739666424945\n",
      "Alhpa parameter:  0.1\n",
      "Mean class accuracy scores: 0.08846990572878898\n",
      "No. of principal components = 800\n",
      "Alhpa parameter:  0.0001\n",
      "Mean class accuracy scores: 0.7918781725888325\n",
      "Alhpa parameter:  0.001\n",
      "Mean class accuracy scores: 0.69108049311095\n",
      "Alhpa parameter:  0.01\n",
      "Mean class accuracy scores: 0.3770848440899202\n",
      "Alhpa parameter:  0.1\n",
      "Mean class accuracy scores: 0.1406816533720087\n",
      "No. of principal components = 850\n",
      "Alhpa parameter:  0.0001\n",
      "Mean class accuracy scores: 0.7868020304568528\n",
      "Alhpa parameter:  0.001\n",
      "Mean class accuracy scores: 0.6729514140681654\n",
      "Alhpa parameter:  0.01\n",
      "Mean class accuracy scores: 0.40609137055837563\n",
      "Alhpa parameter:  0.1\n",
      "Mean class accuracy scores: 0.05946337926033358\n",
      "No. of principal components = 900\n",
      "Alhpa parameter:  0.0001\n",
      "Mean class accuracy scores: 0.794778825235678\n",
      "Alhpa parameter:  0.001\n",
      "Mean class accuracy scores: 0.6794778825235678\n",
      "Alhpa parameter:  0.01\n",
      "Mean class accuracy scores: 0.41189267585206674\n",
      "Alhpa parameter:  0.1\n",
      "Mean class accuracy scores: 0.11385061638868746\n",
      "No. of principal components = 950\n",
      "Alhpa parameter:  0.0001\n",
      "Mean class accuracy scores: 0.7933284989122552\n",
      "Alhpa parameter:  0.001\n",
      "Mean class accuracy scores: 0.6954314720812182\n",
      "Alhpa parameter:  0.01\n",
      "Mean class accuracy scores: 0.4220449601160261\n",
      "Alhpa parameter:  0.1\n",
      "Mean class accuracy scores: 0.12255257432922408\n",
      "No. of principal components = 1000\n",
      "Alhpa parameter:  0.0001\n",
      "Mean class accuracy scores: 0.7969543147208121\n",
      "Alhpa parameter:  0.001\n",
      "Mean class accuracy scores: 0.6881798404641044\n",
      "Alhpa parameter:  0.01\n",
      "Mean class accuracy scores: 0.3756345177664975\n",
      "Alhpa parameter:  0.1\n",
      "Mean class accuracy scores: 0.12545322697606962\n"
     ]
    }
   ],
   "source": [
    "N_components = [500, 550, 600, 650, 700, 750, 800, 850, 900, 950, 1000]\n",
    "alpha_param = [0.0001, 0.001, 0.01, 0.1]\n",
    "mean_acc = []\n",
    "\n",
    "for n_components in N_components:\n",
    "    pca = PCA(n_components=n_components)\n",
    "    train_features_red = pca.fit_transform(train_features)\n",
    "    validation_features_red = pca.transform(validation_features)\n",
    "    print(\"No. of principal components =\", n_components)\n",
    "    for alpha in alpha_param:\n",
    "        clf = make_pipeline(StandardScaler(), SGDClassifier(alpha = alpha, max_iter=10000, tol=1e-4, class_weight='balanced', random_state=0))\n",
    "        clf.fit(train_features_red, train_labels)\n",
    "        score = clf.score(validation_features_red, validation_labels)\n",
    "        mean_acc.append(score)\n",
    "        print(\"Alhpa parameter: \", alpha)\n",
    "        print(\"Mean class accuracy scores:\", score)"
   ]
  },
  {
   "cell_type": "markdown",
   "id": "e730b5da",
   "metadata": {},
   "source": [
    "Inference from experiment: alpha 0.0001 is optimum"
   ]
  },
  {
   "cell_type": "code",
   "execution_count": 6,
   "id": "3a8ce23b",
   "metadata": {},
   "outputs": [
    {
     "name": "stdout",
     "output_type": "stream",
     "text": [
      "Mean class accuracy scores: 0.6562726613488035\n"
     ]
    }
   ],
   "source": [
    "#Running SGDClassifier without PCA and with with default parameters"
   ]
  },
  {
   "cell_type": "code",
   "execution_count": 7,
   "id": "7dcf472c",
   "metadata": {},
   "outputs": [
    {
     "name": "stdout",
     "output_type": "stream",
     "text": [
      "No. of principal components = 1000\n",
      "Mean class accuracy scores: 0.7926033357505439\n",
      "No. of principal components = 1100\n",
      "Mean class accuracy scores: 0.7955039883973894\n",
      "No. of principal components = 1200\n",
      "Mean class accuracy scores: 0.7911530094271211\n",
      "No. of principal components = 1300\n",
      "Mean class accuracy scores: 0.7933284989122552\n",
      "No. of principal components = 1400\n",
      "Mean class accuracy scores: 0.8013052936910805\n",
      "No. of principal components = 1500\n",
      "Mean class accuracy scores: 0.7991298042059464\n",
      "No. of principal components = 1600\n",
      "Mean class accuracy scores: 0.7940536620739667\n",
      "No. of principal components = 1700\n",
      "Mean class accuracy scores: 0.7875271936185642\n",
      "No. of principal components = 1800\n",
      "Mean class accuracy scores: 0.7875271936185642\n"
     ]
    }
   ],
   "source": [
    "N_components = [1000, 1100, 1200, 1300, 1400, 1500, 1600, 1700, 1800]\n",
    "mean_acc = []\n",
    "\n",
    "for n_components in N_components:\n",
    "    pca = PCA(n_components=n_components)\n",
    "    train_features_red = pca.fit_transform(train_features)\n",
    "    validation_features_red = pca.transform(validation_features)\n",
    "    print(\"No. of principal components =\", n_components)\n",
    "    clf = make_pipeline(StandardScaler(), SGDClassifier(max_iter=10000, tol=1e-4, class_weight='balanced', random_state=0))\n",
    "    clf.fit(train_features_red, train_labels)\n",
    "    score = clf.score(validation_features_red, validation_labels)\n",
    "    mean_acc.append(score)\n",
    "    print(\"Mean class accuracy scores:\", score)"
   ]
  },
  {
   "cell_type": "markdown",
   "id": "c3177474",
   "metadata": {},
   "source": [
    "optimum model\n",
    "\n",
    "PCA dim = 1400"
   ]
  },
  {
   "cell_type": "code",
   "execution_count": null,
   "id": "62d82066",
   "metadata": {},
   "outputs": [],
   "source": [
    "n_components = 1400\n",
    "pca = PCA(n_components=n_components)\n",
    "train_features_red = pca.fit_transform(train_features)\n",
    "validation_features_red = pca.transform(validation_features)\n",
    "clf = make_pipeline(StandardScaler(), SGDClassifier(max_iter=10000, tol=1e-4, class_weight='balanced', random_state=0))\n",
    "clf.fit(train_features_red, train_labels)\n",
    "SGDClassifier_predictions = clf.predict(validation_features_red)\n",
    "score = clf.score(validation_features_red, validation_labels)"
   ]
  },
  {
   "cell_type": "code",
   "execution_count": 18,
   "id": "3fd77e2c",
   "metadata": {},
   "outputs": [
    {
     "name": "stdout",
     "output_type": "stream",
     "text": [
      "Mean class accuracy scores: 0.7962291515591008\n"
     ]
    }
   ],
   "source": [
    "print(\"Mean class accuracy scores:\", score)"
   ]
  },
  {
   "cell_type": "code",
   "execution_count": 19,
   "id": "01f70a4c",
   "metadata": {},
   "outputs": [],
   "source": [
    "#Save predictions in an excel file\n",
    "output_df = pd.DataFrame(SGDClassifier_predictions)\n",
    "output_df.to_csv('Task1_SGDClassifier_predictions_dim1400.csv', index=False,  header=False)"
   ]
  },
  {
   "cell_type": "code",
   "execution_count": 23,
   "id": "2a9bbd9b",
   "metadata": {},
   "outputs": [
    {
     "name": "stdout",
     "output_type": "stream",
     "text": [
      "No. of principal components = 1000\n",
      "Mean class accuracy scores: 0.7984046410442349\n"
     ]
    }
   ],
   "source": [
    "n_components = 1000\n",
    "pca = PCA(n_components=n_components)\n",
    "train_features_red = pca.fit_transform(train_features)\n",
    "validation_features_red = pca.transform(validation_features)\n",
    "print(\"No. of principal components =\", n_components)\n",
    "clf_1000 = make_pipeline(StandardScaler(), SGDClassifier(max_iter=10000, tol=1e-4, class_weight='balanced', random_state=0))\n",
    "clf_1000.fit(train_features_red, train_labels)\n",
    "SGDClassifier_predictions = clf_1000.predict(validation_features_red)\n",
    "score = clf_1000.score(validation_features_red, validation_labels)\n",
    "print(\"Mean class accuracy scores:\", score)"
   ]
  },
  {
   "cell_type": "code",
   "execution_count": 24,
   "id": "20f4dfbd",
   "metadata": {},
   "outputs": [],
   "source": [
    "#Save predictions in an excel file\n",
    "output_df = pd.DataFrame(SGDClassifier_predictions)\n",
    "output_df.to_csv('Task1_SGDClassifier_predictions_dim1000.csv', index=False,  header=False)"
   ]
  },
  {
   "cell_type": "code",
   "execution_count": 25,
   "id": "f268c115",
   "metadata": {},
   "outputs": [
    {
     "name": "stdout",
     "output_type": "stream",
     "text": [
      "0.7984046410442349\n"
     ]
    }
   ],
   "source": [
    "from sklearn.metrics import accuracy_score\n",
    "\n",
    "print(accuracy_score(SGDClassifier_predictions, validation_labels))"
   ]
  },
  {
   "cell_type": "code",
   "execution_count": 28,
   "id": "e75e0cff",
   "metadata": {},
   "outputs": [
    {
     "name": "stdout",
     "output_type": "stream",
     "text": [
      "0.7790133032482489\n"
     ]
    }
   ],
   "source": [
    "from sklearn.metrics import confusion_matrix\n",
    "\n",
    "matrix = confusion_matrix(validation_labels, SGDClassifier_predictions)\n",
    "acc = matrix.diagonal()/matrix.sum(axis=1)\n",
    "print(sum(acc)/len(acc))"
   ]
  },
  {
   "cell_type": "code",
   "execution_count": null,
   "id": "363a8d24",
   "metadata": {},
   "outputs": [],
   "source": []
  }
 ],
 "metadata": {
  "kernelspec": {
   "display_name": "Python 3 (ipykernel)",
   "language": "python",
   "name": "python3"
  },
  "language_info": {
   "codemirror_mode": {
    "name": "ipython",
    "version": 3
   },
   "file_extension": ".py",
   "mimetype": "text/x-python",
   "name": "python",
   "nbconvert_exporter": "python",
   "pygments_lexer": "ipython3",
   "version": "3.7.9"
  }
 },
 "nbformat": 4,
 "nbformat_minor": 5
}
