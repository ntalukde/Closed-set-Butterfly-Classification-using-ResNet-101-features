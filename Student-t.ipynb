{
 "cells": [
  {
   "cell_type": "code",
   "execution_count": 1,
   "id": "f0e20da6",
   "metadata": {},
   "outputs": [],
   "source": [
    "#Load packages\n",
    "import numpy as np\n",
    "from numpy.linalg import matrix_rank\n",
    "import scipy.io as sio\n",
    "import matplotlib.pyplot as plt\n",
    "import random\n",
    "from scipy.stats import multivariate_t\n",
    "import scipy\n",
    "from collections import Counter\n",
    "from sklearn.preprocessing import LabelEncoder\n",
    "from sklearn.decomposition import PCA"
   ]
  },
  {
   "cell_type": "code",
   "execution_count": 2,
   "id": "dbe212d7",
   "metadata": {},
   "outputs": [],
   "source": [
    "#functions\n",
    "def cal_t_params(xtrain, ytrain, Sigma0, kappa, m, mu0):\n",
    "    all_loc_vec = [] # each has shape dx1\n",
    "    all_scale_mat = [] # each has shape dxd\n",
    "    all_dof = [] # each has shape 1\n",
    "    d = xtrain.shape[1]\n",
    "    all_labels = np.unique(ytrain)\n",
    "    for label in all_labels:\n",
    "        xtrain_sub = xtrain[ytrain==label]\n",
    "        n = xtrain_sub.shape[0]\n",
    "        xpar = np.squeeze(np.mean(xtrain_sub, axis=0))\n",
    "        all_loc_vec.append((kappa*mu0 + n*xpar/(n+kappa)))\n",
    "        diff = mu0-xpar\n",
    "        term2 = Sigma0 + (n-1)*np.cov(xtrain_sub, rowvar=False) + (n*kappa)/(n+kappa)* np.outer(diff, diff)                 \n",
    "        term2 *= (n + kappa+1)/((n+kappa)*(n+m+1-d))\n",
    "        all_scale_mat.append(term2)\n",
    "        all_dof.append(n+m+1-d)\n",
    "    \n",
    "    return all_loc_vec, all_scale_mat, all_dof\n",
    "\n",
    "def predict(xtest, all_loc_vec, all_scale_mat, all_dof, all_labels):\n",
    "    nr_classes = len(all_labels)\n",
    "    log_lik = np.zeros((xtest.shape[0], nr_classes))\n",
    "    for i in range(nr_classes):\n",
    "        log_lik[:, i] = multivariate_t.logpdf(xtest, all_loc_vec[i], all_scale_mat[i], all_dof[i])\n",
    "                                             \n",
    "    predicted_class_ids = np.argmax(log_lik, axis=1)\n",
    "    ypred = np.zeros(len(xtest))\n",
    "    \n",
    "    for i in range(len(predicted_class_ids)):\n",
    "        ypred[i] = all_labels[predicted_class_ids[i]]\n",
    "    \n",
    "    return ypred\n",
    "\n",
    "def splitData(data_path):\n",
    "    mat = scipy.io.loadmat(data_path)\n",
    "\n",
    "    tri = np.where((mat['pixims']>=1) & (mat['pixims']<= 55))[0]\n",
    "    tsi = np.where((mat['pixims']>=56) & (mat['pixims'] <=77))[0]\n",
    "\n",
    "    xtrain = mat['pixspec'][tri,0:248]\n",
    "    ytrain = np.squeeze(mat['pixlabs'][tri,:])\n",
    "\n",
    "    xtest = mat['pixspec'][tsi,0:248]\n",
    "    ytest = np.squeeze(mat['pixlabs'][tsi,:])\n",
    "    print(xtrain.shape, ytrain.shape, xtest.shape, ytest.shape)\n",
    "\n",
    "    all_labels = np.unique(ytrain)\n",
    "    \n",
    "    return xtrain, ytrain, xtest, ytest, all_labels\n",
    "\n",
    "def cal_prior(xtrain, ytrain, m):\n",
    "    \"\"\"\n",
    "    Estimate prior information.\n",
    "    \"\"\"\n",
    "    d = xtrain.shape[1]\n",
    "    uy = np.unique(ytrain)\n",
    "    nc = len(uy)\n",
    "    mu0 = np.zeros((1,d))\n",
    "    Sigma0 = np.zeros((d,d))\n",
    "    for i in range(nc):\n",
    "        idx = (ytrain==uy[i]).flatten()\n",
    "        if len(xtrain[idx,:]) == 1:\n",
    "            mu0 += xtrain[idx,:] \n",
    "        else:\n",
    "            mu0 = mu0 + np.mean(xtrain[idx,:], axis=0)\n",
    "            Sigma0 = Sigma0 + np.cov(xtrain[idx,:].T)\n",
    "    mu0 = mu0/nc\n",
    "    Sigma0 = (m-d-1)*Sigma0/nc\n",
    "    \n",
    "    return np.squeeze(mu0), Sigma0\n",
    "\n",
    "def getSampleMeanCovariance(X_train, y_train, k, d, classes):\n",
    "    x_bar = np.zeros((k,d))\n",
    "    S = np.zeros((k,d,d))\n",
    "    \n",
    "    for i, kls in enumerate(classes):\n",
    "        data_i = X_train[y_train == kls, :]\n",
    "        x_bar[i,:] = np.mean(data_i, axis=0)\n",
    "        S[i,:] = np.cov(data_i, rowvar = False)\n",
    "    \n",
    "    return x_bar, S\n",
    "\n",
    "def report_mean_class_acc(ytest, ypred, all_labels):\n",
    "    class_accuracies = []\n",
    "    for label in all_labels:\n",
    "        if(np.sum(ytest==label)>0):\n",
    "            acc = np.sum(np.logical_and(ytest == label,ypred == label))/np.sum(ytest==label)\n",
    "            class_accuracies.append(acc)\n",
    "    mean_acc = np.mean(class_accuracies)\n",
    "        \n",
    "    return mean_acc\n",
    "\n",
    "#This function is used to encode labels since labels are categorical.\n",
    "def encode_labels(labels):\n",
    "    le = LabelEncoder()\n",
    "    le.fit(labels)\n",
    "    encoded_labels = le.transform(labels)\n",
    "    \n",
    "    return encoded_labels, le\n",
    "\n",
    "def decode_labels(encoded_predict_labels, le):\n",
    "    test_predictions = le.inverse_transform(encoded_predict_labels)\n",
    "    \n",
    "    return test_predictions"
   ]
  },
  {
   "cell_type": "code",
   "execution_count": 10,
   "id": "51c9374a",
   "metadata": {},
   "outputs": [
    {
     "name": "stdout",
     "output_type": "stream",
     "text": [
      "(7849, 2048)\n",
      "1013\n",
      "(1379, 2048)\n",
      "1013\n",
      "7849\n",
      "1379\n"
     ]
    }
   ],
   "source": [
    "#Load data\n",
    "train = sio.loadmat('train.mat')\n",
    "validation = sio.loadmat('validation.mat')\n",
    "test = sio.loadmat('test_wolabels.mat')\n",
    "\n",
    "train_classid = np.squeeze(train['classid'])\n",
    "train_class_labels = []\n",
    "for item in train_classid:\n",
    "    train_class_labels.append(item[0])\n",
    "train_features = train['features']\n",
    "train_imid = train['imid']\n",
    "train_sampleid = train['sampleid']\n",
    "print(train_features.shape)\n",
    "train_unique_labels_count = len(train_unique_labels)\n",
    "print(train_unique_labels_count)\n",
    "\n",
    "validation_classid = np.squeeze(validation['classid'])\n",
    "validation_class_labels = []\n",
    "for item in validation_classid:\n",
    "    validation_class_labels.append(item[0])\n",
    "validation_features = validation['features']\n",
    "validation_imid = validation['imid']\n",
    "validation_sampleid = validation['sampleid']\n",
    "print(validation_features.shape)\n",
    "validation_unique_labels = sorted(np.unique(validation_class_labels))\n",
    "validation_unique_labels_count = len(validation_unique_labels)\n",
    "print(validation_unique_labels_count)\n",
    "\n",
    "#encoded train labels\n",
    "train_labels, le = encode_labels(train_class_labels)\n",
    "train_unique_labels = sorted(np.unique(train_labels))\n",
    "print(len(train_labels))\n",
    "\n",
    "#encoded validation labels\n",
    "validation_labels = le.transform(validation_class_labels)\n",
    "print(len(validation_labels))"
   ]
  },
  {
   "cell_type": "code",
   "execution_count": 11,
   "id": "7517ac9c",
   "metadata": {
    "scrolled": true
   },
   "outputs": [
    {
     "name": "stdout",
     "output_type": "stream",
     "text": [
      "[0, 1, 2, 3, 4, 5, 6, 7, 8, 9, 10, 11, 12, 13, 14, 15, 16, 17, 18, 19, 20, 21, 22, 23, 24, 25, 26, 27, 28, 29, 30, 31, 32, 33, 34, 35, 36, 37, 38, 39, 40, 41, 42, 43, 44, 45, 46, 47, 48, 49, 50, 51, 52, 53, 54, 55, 56, 57, 58, 59, 60, 61, 62, 63, 64, 65, 66, 67, 68, 69, 70, 71, 72, 73, 74, 75, 76, 77, 78, 79, 80, 81, 82, 83, 84, 85, 86, 87, 88, 89, 90, 91, 92, 93, 94, 95, 96, 97, 98, 99, 100, 101, 102, 103, 104, 105, 106, 107, 108, 109, 110, 111, 112, 113, 114, 115, 116, 117, 118, 119, 120, 121, 122, 123, 124, 125, 126, 127, 128, 129, 130, 131, 132, 133, 134, 135, 136, 137, 138, 139, 140, 141, 142, 143, 144, 145, 146, 147, 148, 149, 150, 151, 152, 153, 154, 155, 156, 157, 158, 159, 160, 161, 162, 163, 164, 165, 166, 167, 168, 169, 170, 171, 172, 173, 174, 175, 176, 177, 178, 179, 180, 181, 182, 183, 184, 185, 186, 187, 188, 189, 190, 191, 192, 193, 194, 195, 196, 197, 198, 199, 200, 201, 202, 203, 204, 205, 206, 207, 208, 209, 210, 211, 212, 213, 214, 215, 216, 217, 218, 219, 220, 221, 222, 223, 224, 225, 226, 227, 228, 229, 230, 231, 232, 233, 234, 235, 236, 237, 238, 239, 240, 241, 242, 243, 244, 245, 246, 247, 248, 249, 250, 251, 252, 253, 254, 255, 256, 257, 258, 259, 260, 261, 262, 263, 264, 265, 266, 267, 268, 269, 270, 271, 272, 273, 274, 275, 276, 277, 278, 279, 280, 281, 282, 283, 284, 285, 286, 287, 288, 289, 290, 291, 292, 293, 294, 295, 296, 297, 298, 299, 300, 301, 302, 303, 304, 305, 306, 307, 308, 309, 310, 311, 312, 313, 314, 315, 316, 317, 318, 319, 320, 321, 322, 323, 324, 325, 326, 327, 328, 329, 330, 331, 332, 333, 334, 335, 336, 337, 338, 339, 340, 341, 342, 343, 344, 345, 346, 347, 348, 349, 350, 351, 352, 353, 354, 355, 356, 357, 358, 359, 360, 361, 362, 363, 364, 365, 366, 367, 368, 369, 370, 371, 372, 373, 374, 375, 376, 377, 378, 379, 380, 381, 382, 383, 384, 385, 386, 387, 388, 389, 390, 391, 392, 393, 394, 395, 396, 397, 398, 399, 400, 401, 402, 403, 404, 405, 406, 407, 408, 409, 410, 411, 412, 413, 414, 415, 416, 417, 418, 419, 420, 421, 422, 423, 424, 425, 426, 427, 428, 429, 430, 431, 432, 433, 434, 435, 436, 437, 438, 439, 440, 441, 442, 443, 444, 445, 446, 447, 448, 449, 450, 451, 452, 453, 454, 455, 456, 457, 458, 459, 460, 461, 462, 463, 464, 465, 466, 467, 468, 469, 470, 471, 472, 473, 474, 475, 476, 477, 478, 479, 480, 481, 482, 483, 484, 485, 486, 487, 488, 489, 490, 491, 492, 493, 494, 495, 496, 497, 498, 499, 500, 501, 502, 503, 504, 505, 506, 507, 508, 509, 510, 511, 512, 513, 514, 515, 516, 517, 518, 519, 520, 521, 522, 523, 524, 525, 526, 527, 528, 529, 530, 531, 532, 533, 534, 535, 536, 537, 538, 539, 540, 541, 542, 543, 544, 545, 546, 547, 548, 549, 550, 551, 552, 553, 554, 555, 556, 557, 558, 559, 560, 561, 562, 563, 564, 565, 566, 567, 568, 569, 570, 571, 572, 573, 574, 575, 576, 577, 578, 579, 580, 581, 582, 583, 584, 585, 586, 587, 588, 589, 590, 591, 592, 593, 594, 595, 596, 597, 598, 599, 600, 601, 602, 603, 604, 605, 606, 607, 608, 609, 610, 611, 612, 613, 614, 615, 616, 617, 618, 619, 620, 621, 622, 623, 624, 625, 626, 627, 628, 629, 630, 631, 632, 633, 634, 635, 636, 637, 638, 639, 640, 641, 642, 643, 644, 645, 646, 647, 648, 649, 650, 651, 652, 653, 654, 655, 656, 657, 658, 659, 660, 661, 662, 663, 664, 665, 666, 667, 668, 669, 670, 671, 672, 673, 674, 675, 676, 677, 678, 679, 680, 681, 682, 683, 684, 685, 686, 687, 688, 689, 690, 691, 692, 693, 694, 695, 696, 697, 698, 699, 700, 701, 702, 703, 704, 705, 706, 707, 708, 709, 710, 711, 712, 713, 714, 715, 716, 717, 718, 719, 720, 721, 722, 723, 724, 725, 726, 727, 728, 729, 730, 731, 732, 733, 734, 735, 736, 737, 738, 739, 740, 741, 742, 743, 744, 745, 746, 747, 748, 749, 750, 751, 752, 753, 754, 755, 756, 757, 758, 759, 760, 761, 762, 763, 764, 765, 766, 767, 768, 769, 770, 771, 772, 773, 774, 775, 776, 777, 778, 779, 780, 781, 782, 783, 784, 785, 786, 787, 788, 789, 790, 791, 792, 793, 794, 795, 796, 797, 798, 799, 800, 801, 802, 803, 804, 805, 806, 807, 808, 809, 810, 811, 812, 813, 814, 815, 816, 817, 818, 819, 820, 821, 822, 823, 824, 825, 826, 827, 828, 829, 830, 831, 832, 833, 834, 835, 836, 837, 838, 839, 840, 841, 842, 843, 844, 845, 846, 847, 848, 849, 850, 851, 852, 853, 854, 855, 856, 857, 858, 859, 860, 861, 862, 863, 864, 865, 866, 867, 868, 869, 870, 871, 872, 873, 874, 875, 876, 877, 878, 879, 880, 881, 882, 883, 884, 885, 886, 887, 888, 889, 890, 891, 892, 893, 894, 895, 896, 897, 898, 899, 900, 901, 902, 903, 904, 905, 906, 907, 908, 909, 910, 911, 912, 913, 914, 915, 916, 917, 918, 919, 920, 921, 922, 923, 924, 925, 926, 927, 928, 929, 930, 931, 932, 933, 934, 935, 936, 937, 938, 939, 940, 941, 942, 943, 944, 945, 946, 947, 948, 949, 950, 951, 952, 953, 954, 955, 956, 957, 958, 959, 960, 961, 962, 963, 964, 965, 966, 967, 968, 969, 970, 971, 972, 973, 974, 975, 976, 977, 978, 979, 980, 981, 982, 983, 984, 985, 986, 987, 988, 989, 990, 991, 992, 993, 994, 995, 996, 997, 998, 999, 1000, 1001, 1002, 1003, 1004, 1005, 1006, 1007, 1008, 1009, 1010, 1011, 1012]\n"
     ]
    }
   ],
   "source": [
    "print(train_unique_labels)"
   ]
  },
  {
   "cell_type": "code",
   "execution_count": 5,
   "id": "58b7729f",
   "metadata": {},
   "outputs": [
    {
     "name": "stdout",
     "output_type": "stream",
     "text": [
      "Projection of train datapoints shape:  (7849, 500)\n",
      "Projection of validation datapoints shape:  (1379, 500)\n"
     ]
    }
   ],
   "source": [
    "#Apply PCA\n",
    "pca = PCA(n_components=500)\n",
    "train_features_red = pca.fit_transform(train_features)\n",
    "print(\"Projection of train datapoints shape: \", train_features_red.shape)\n",
    "validation_features_red = pca.transform(validation_features)\n",
    "print(\"Projection of validation datapoints shape: \", validation_features_red.shape)"
   ]
  },
  {
   "cell_type": "code",
   "execution_count": 6,
   "id": "9f00d7de",
   "metadata": {},
   "outputs": [],
   "source": [
    "#0-1 normalization\n",
    "from sklearn.preprocessing import MinMaxScaler\n",
    "\n",
    "scalar = MinMaxScaler()\n",
    "train_features_norm = scalar.fit_transform(train_features_red)\n",
    "validation_features_norm = scalar.transform(validation_features_red)"
   ]
  },
  {
   "cell_type": "code",
   "execution_count": 12,
   "id": "4ac38a31",
   "metadata": {},
   "outputs": [
    {
     "name": "stdout",
     "output_type": "stream",
     "text": [
      "kappa=0.100 \t m=502\tfind better acc 0.705\n"
     ]
    }
   ],
   "source": [
    "# tune kappa and m for best accuracy\n",
    "\n",
    "all_configs = []\n",
    "all_accs = []\n",
    "best_acc = 0\n",
    "\n",
    "d = train_features_red.shape[1]\n",
    "\n",
    "all_kappas = [0.1, 1.0, 10.0]\n",
    "all_ms = [d+2, 2*d, 10*d, 100*d, 1e3*d, 1e5*d, 1e8*d, 1e10*d]\n",
    "\n",
    "for kappa in all_kappas:\n",
    "    for m in all_ms:\n",
    "        \n",
    "        mu0, Sigma0 = cal_prior(train_features_red, train_labels, m)\n",
    "        \n",
    "        all_loc_vec, all_scale_mat, all_dof = cal_t_params(train_features_norm, train_labels, Sigma0, kappa, m, mu0)           \n",
    "        ypred = predict(validation_features_norm, all_loc_vec, all_scale_mat, all_dof, train_unique_labels)\n",
    "        acc= report_mean_class_acc(validation_labels, ypred, train_unique_labels)\n",
    "        \n",
    "        all_configs.append((kappa, m))\n",
    "        all_accs.append(acc)\n",
    "        \n",
    "        if acc > best_acc:\n",
    "            out_str = \"kappa=%.3f \\t m=%d\" % (kappa, m)\n",
    "            out_str += \"\\tfind better acc %.3f\" %(acc)\n",
    "            print(out_str)\n",
    "            best_acc = acc"
   ]
  },
  {
   "cell_type": "code",
   "execution_count": null,
   "id": "77f0f700",
   "metadata": {
    "scrolled": true
   },
   "outputs": [],
   "source": []
  },
  {
   "cell_type": "code",
   "execution_count": null,
   "id": "4eb305e6",
   "metadata": {},
   "outputs": [],
   "source": []
  }
 ],
 "metadata": {
  "kernelspec": {
   "display_name": "Python 3 (ipykernel)",
   "language": "python",
   "name": "python3"
  },
  "language_info": {
   "codemirror_mode": {
    "name": "ipython",
    "version": 3
   },
   "file_extension": ".py",
   "mimetype": "text/x-python",
   "name": "python",
   "nbconvert_exporter": "python",
   "pygments_lexer": "ipython3",
   "version": "3.7.9"
  }
 },
 "nbformat": 4,
 "nbformat_minor": 5
}
